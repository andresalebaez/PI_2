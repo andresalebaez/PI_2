{
 "cells": [
  {
   "cell_type": "code",
   "execution_count": 2,
   "metadata": {},
   "outputs": [
    {
     "name": "stdout",
     "output_type": "stream",
     "text": [
      "hola mundo\n"
     ]
    }
   ],
   "source": [
    "print(\"hola mundo\")"
   ]
  },
  {
   "cell_type": "code",
   "execution_count": 3,
   "metadata": {},
   "outputs": [
    {
     "name": "stderr",
     "output_type": "stream",
     "text": [
      "c:\\Users\\andres\\AppData\\Local\\Programs\\Python\\Python310\\lib\\site-packages\\tqdm\\auto.py:22: TqdmWarning: IProgress not found. Please update jupyter and ipywidgets. See https://ipywidgets.readthedocs.io/en/stable/user_install.html\n",
      "  from .autonotebook import tqdm as notebook_tqdm\n",
      "C:\\Users\\andres\\AppData\\Local\\Temp\\ipykernel_14456\\3985428908.py:4: DeprecationWarning: `import pandas_profiling` is going to be deprecated by April 1st. Please use `import ydata_profiling` instead.\n",
      "  from pandas_profiling import ProfileReport\n"
     ]
    }
   ],
   "source": [
    "# Se comienza importando las librerias necesarias para trabajar. -\n",
    "import pandas as pd\n",
    "import numpy as np\n",
    "from pandas_profiling import ProfileReport\n",
    "import matplotlib\n",
    "matplotlib.use('TkAgg')\n",
    "import matplotlib.pyplot as plt\n",
    "from sklearn.decomposition import FactorAnalysis\n"
   ]
  },
  {
   "attachments": {},
   "cell_type": "markdown",
   "metadata": {},
   "source": [
    "Realizamos una visualizacion de los Dataframes para dar vista a que se hayan cargado corectamente, a su vez observa las columnas, filas y el tipo de dato que contienen para trabajar, por ultimo controlar sobre los cambios que vamos a realizar. -"
   ]
  },
  {
   "cell_type": "code",
   "execution_count": 4,
   "metadata": {},
   "outputs": [],
   "source": [
    "# Se comienza importando los archivos CSV para posteriormente trasformarlo en un datasets de pandas. -\n",
    "IBM_df = pd.read_csv('C:\\\\Users\\\\andres\\\\AppData\\\\Local\\\\Programs\\\\Python\\\\Python310\\\\PI-2\\\\IBM.csv')\n",
    "INTC_df = pd.read_csv('C:\\\\Users\\\\andres\\\\AppData\\\\Local\\\\Programs\\\\Python\\\\Python310\\\\PI-2\\\\INTC.csv')\n",
    "MSFT_df = pd.read_csv('C:\\\\Users\\\\andres\\\\AppData\\\\Local\\\\Programs\\\\Python\\\\Python310\\\\PI-2\\\\MSFT.csv')\n",
    "# Se pone como indice la fecha de casa dato de productividad. -\n",
    "IBM_df = IBM_df.set_index('Date')\n",
    "INTC_df = INTC_df.set_index('Date')\n",
    "MSFT_df = MSFT_df.set_index('Date')\n",
    "\n"
   ]
  },
  {
   "attachments": {},
   "cell_type": "markdown",
   "metadata": {},
   "source": [
    "Emplicacion de la informacion de cada Dataframe obtenido:\n",
    "\n",
    "'Open': El precio de apertura de las acciones en el día especificado.\n",
    "\n",
    "'High': El precio más alto alcanzado por las acciones durante el día especificado.\n",
    "\n",
    "'Low': El precio más bajo alcanzado por las acciones durante el día especificado.\n",
    "\n",
    "'Close': El precio de cierre de las acciones en el día especificado.\n",
    "\n",
    "'Adj Close': El precio de cierre ajustado por dividendos y desdoblamientos de acciones en el día especificado.\n",
    "\n",
    "'Volume': El volumen de negociación de las acciones durante el día especificado."
   ]
  },
  {
   "cell_type": "code",
   "execution_count": 5,
   "metadata": {},
   "outputs": [
    {
     "data": {
      "text/html": [
       "<div>\n",
       "<style scoped>\n",
       "    .dataframe tbody tr th:only-of-type {\n",
       "        vertical-align: middle;\n",
       "    }\n",
       "\n",
       "    .dataframe tbody tr th {\n",
       "        vertical-align: top;\n",
       "    }\n",
       "\n",
       "    .dataframe thead th {\n",
       "        text-align: right;\n",
       "    }\n",
       "</style>\n",
       "<table border=\"1\" class=\"dataframe\">\n",
       "  <thead>\n",
       "    <tr style=\"text-align: right;\">\n",
       "      <th></th>\n",
       "      <th>Open</th>\n",
       "      <th>High</th>\n",
       "      <th>Low</th>\n",
       "      <th>Close</th>\n",
       "      <th>Adj Close</th>\n",
       "      <th>Volume</th>\n",
       "    </tr>\n",
       "    <tr>\n",
       "      <th>Date</th>\n",
       "      <th></th>\n",
       "      <th></th>\n",
       "      <th></th>\n",
       "      <th></th>\n",
       "      <th></th>\n",
       "      <th></th>\n",
       "    </tr>\n",
       "  </thead>\n",
       "  <tbody>\n",
       "    <tr>\n",
       "      <th>1990-01-02</th>\n",
       "      <td>22.645794</td>\n",
       "      <td>23.452438</td>\n",
       "      <td>22.586042</td>\n",
       "      <td>23.422562</td>\n",
       "      <td>10.509354</td>\n",
       "      <td>7365514</td>\n",
       "    </tr>\n",
       "    <tr>\n",
       "      <th>1990-01-03</th>\n",
       "      <td>23.601816</td>\n",
       "      <td>23.781071</td>\n",
       "      <td>23.512190</td>\n",
       "      <td>23.631693</td>\n",
       "      <td>10.603189</td>\n",
       "      <td>9899344</td>\n",
       "    </tr>\n",
       "    <tr>\n",
       "      <th>1990-01-04</th>\n",
       "      <td>23.661568</td>\n",
       "      <td>23.990202</td>\n",
       "      <td>23.631693</td>\n",
       "      <td>23.900574</td>\n",
       "      <td>10.723829</td>\n",
       "      <td>10119841</td>\n",
       "    </tr>\n",
       "    <tr>\n",
       "      <th>1990-01-05</th>\n",
       "      <td>23.870699</td>\n",
       "      <td>24.288958</td>\n",
       "      <td>23.781071</td>\n",
       "      <td>23.840822</td>\n",
       "      <td>10.697018</td>\n",
       "      <td>7918220</td>\n",
       "    </tr>\n",
       "    <tr>\n",
       "      <th>1990-01-08</th>\n",
       "      <td>23.721319</td>\n",
       "      <td>24.109703</td>\n",
       "      <td>23.721319</td>\n",
       "      <td>23.990202</td>\n",
       "      <td>10.764043</td>\n",
       "      <td>4837959</td>\n",
       "    </tr>\n",
       "  </tbody>\n",
       "</table>\n",
       "</div>"
      ],
      "text/plain": [
       "                 Open       High        Low      Close  Adj Close    Volume\n",
       "Date                                                                       \n",
       "1990-01-02  22.645794  23.452438  22.586042  23.422562  10.509354   7365514\n",
       "1990-01-03  23.601816  23.781071  23.512190  23.631693  10.603189   9899344\n",
       "1990-01-04  23.661568  23.990202  23.631693  23.900574  10.723829  10119841\n",
       "1990-01-05  23.870699  24.288958  23.781071  23.840822  10.697018   7918220\n",
       "1990-01-08  23.721319  24.109703  23.721319  23.990202  10.764043   4837959"
      ]
     },
     "execution_count": 5,
     "metadata": {},
     "output_type": "execute_result"
    }
   ],
   "source": [
    "# Se extraen las primeras filas para observar como se encuentran los datos. -\n",
    "IBM_df.head()"
   ]
  },
  {
   "cell_type": "code",
   "execution_count": 6,
   "metadata": {},
   "outputs": [
    {
     "data": {
      "text/html": [
       "<div>\n",
       "<style scoped>\n",
       "    .dataframe tbody tr th:only-of-type {\n",
       "        vertical-align: middle;\n",
       "    }\n",
       "\n",
       "    .dataframe tbody tr th {\n",
       "        vertical-align: top;\n",
       "    }\n",
       "\n",
       "    .dataframe thead th {\n",
       "        text-align: right;\n",
       "    }\n",
       "</style>\n",
       "<table border=\"1\" class=\"dataframe\">\n",
       "  <thead>\n",
       "    <tr style=\"text-align: right;\">\n",
       "      <th></th>\n",
       "      <th>Open</th>\n",
       "      <th>High</th>\n",
       "      <th>Low</th>\n",
       "      <th>Close</th>\n",
       "      <th>Adj Close</th>\n",
       "      <th>Volume</th>\n",
       "    </tr>\n",
       "    <tr>\n",
       "      <th>Date</th>\n",
       "      <th></th>\n",
       "      <th></th>\n",
       "      <th></th>\n",
       "      <th></th>\n",
       "      <th></th>\n",
       "      <th></th>\n",
       "    </tr>\n",
       "  </thead>\n",
       "  <tbody>\n",
       "    <tr>\n",
       "      <th>1990-01-02</th>\n",
       "      <td>1.078125</td>\n",
       "      <td>1.125000</td>\n",
       "      <td>1.062500</td>\n",
       "      <td>1.125000</td>\n",
       "      <td>0.642669</td>\n",
       "      <td>63833600</td>\n",
       "    </tr>\n",
       "    <tr>\n",
       "      <th>1990-01-03</th>\n",
       "      <td>1.125000</td>\n",
       "      <td>1.132813</td>\n",
       "      <td>1.093750</td>\n",
       "      <td>1.093750</td>\n",
       "      <td>0.624817</td>\n",
       "      <td>69504000</td>\n",
       "    </tr>\n",
       "    <tr>\n",
       "      <th>1990-01-04</th>\n",
       "      <td>1.101563</td>\n",
       "      <td>1.125000</td>\n",
       "      <td>1.078125</td>\n",
       "      <td>1.117188</td>\n",
       "      <td>0.638206</td>\n",
       "      <td>58483200</td>\n",
       "    </tr>\n",
       "    <tr>\n",
       "      <th>1990-01-05</th>\n",
       "      <td>1.117188</td>\n",
       "      <td>1.125000</td>\n",
       "      <td>1.101563</td>\n",
       "      <td>1.109375</td>\n",
       "      <td>0.633743</td>\n",
       "      <td>37036800</td>\n",
       "    </tr>\n",
       "    <tr>\n",
       "      <th>1990-01-08</th>\n",
       "      <td>1.117188</td>\n",
       "      <td>1.132813</td>\n",
       "      <td>1.109375</td>\n",
       "      <td>1.125000</td>\n",
       "      <td>0.642669</td>\n",
       "      <td>43305600</td>\n",
       "    </tr>\n",
       "  </tbody>\n",
       "</table>\n",
       "</div>"
      ],
      "text/plain": [
       "                Open      High       Low     Close  Adj Close    Volume\n",
       "Date                                                                   \n",
       "1990-01-02  1.078125  1.125000  1.062500  1.125000   0.642669  63833600\n",
       "1990-01-03  1.125000  1.132813  1.093750  1.093750   0.624817  69504000\n",
       "1990-01-04  1.101563  1.125000  1.078125  1.117188   0.638206  58483200\n",
       "1990-01-05  1.117188  1.125000  1.101563  1.109375   0.633743  37036800\n",
       "1990-01-08  1.117188  1.132813  1.109375  1.125000   0.642669  43305600"
      ]
     },
     "execution_count": 6,
     "metadata": {},
     "output_type": "execute_result"
    }
   ],
   "source": [
    "# Se extraen las primeras filas para observar como se encuentran los datos. -\n",
    "INTC_df.head()"
   ]
  },
  {
   "cell_type": "code",
   "execution_count": 7,
   "metadata": {},
   "outputs": [
    {
     "data": {
      "text/html": [
       "<div>\n",
       "<style scoped>\n",
       "    .dataframe tbody tr th:only-of-type {\n",
       "        vertical-align: middle;\n",
       "    }\n",
       "\n",
       "    .dataframe tbody tr th {\n",
       "        vertical-align: top;\n",
       "    }\n",
       "\n",
       "    .dataframe thead th {\n",
       "        text-align: right;\n",
       "    }\n",
       "</style>\n",
       "<table border=\"1\" class=\"dataframe\">\n",
       "  <thead>\n",
       "    <tr style=\"text-align: right;\">\n",
       "      <th></th>\n",
       "      <th>Open</th>\n",
       "      <th>High</th>\n",
       "      <th>Low</th>\n",
       "      <th>Close</th>\n",
       "      <th>Adj Close</th>\n",
       "      <th>Volume</th>\n",
       "    </tr>\n",
       "    <tr>\n",
       "      <th>Date</th>\n",
       "      <th></th>\n",
       "      <th></th>\n",
       "      <th></th>\n",
       "      <th></th>\n",
       "      <th></th>\n",
       "      <th></th>\n",
       "    </tr>\n",
       "  </thead>\n",
       "  <tbody>\n",
       "    <tr>\n",
       "      <th>1990-01-02</th>\n",
       "      <td>0.605903</td>\n",
       "      <td>0.616319</td>\n",
       "      <td>0.598090</td>\n",
       "      <td>0.616319</td>\n",
       "      <td>0.384520</td>\n",
       "      <td>53035200</td>\n",
       "    </tr>\n",
       "    <tr>\n",
       "      <th>1990-01-03</th>\n",
       "      <td>0.621528</td>\n",
       "      <td>0.626736</td>\n",
       "      <td>0.614583</td>\n",
       "      <td>0.619792</td>\n",
       "      <td>0.386687</td>\n",
       "      <td>113774400</td>\n",
       "    </tr>\n",
       "    <tr>\n",
       "      <th>1990-01-04</th>\n",
       "      <td>0.619792</td>\n",
       "      <td>0.638889</td>\n",
       "      <td>0.616319</td>\n",
       "      <td>0.638021</td>\n",
       "      <td>0.398060</td>\n",
       "      <td>125740800</td>\n",
       "    </tr>\n",
       "    <tr>\n",
       "      <th>1990-01-05</th>\n",
       "      <td>0.635417</td>\n",
       "      <td>0.638889</td>\n",
       "      <td>0.621528</td>\n",
       "      <td>0.622396</td>\n",
       "      <td>0.388312</td>\n",
       "      <td>69566400</td>\n",
       "    </tr>\n",
       "    <tr>\n",
       "      <th>1990-01-08</th>\n",
       "      <td>0.621528</td>\n",
       "      <td>0.631944</td>\n",
       "      <td>0.614583</td>\n",
       "      <td>0.631944</td>\n",
       "      <td>0.394269</td>\n",
       "      <td>58982400</td>\n",
       "    </tr>\n",
       "  </tbody>\n",
       "</table>\n",
       "</div>"
      ],
      "text/plain": [
       "                Open      High       Low     Close  Adj Close     Volume\n",
       "Date                                                                    \n",
       "1990-01-02  0.605903  0.616319  0.598090  0.616319   0.384520   53035200\n",
       "1990-01-03  0.621528  0.626736  0.614583  0.619792   0.386687  113774400\n",
       "1990-01-04  0.619792  0.638889  0.616319  0.638021   0.398060  125740800\n",
       "1990-01-05  0.635417  0.638889  0.621528  0.622396   0.388312   69566400\n",
       "1990-01-08  0.621528  0.631944  0.614583  0.631944   0.394269   58982400"
      ]
     },
     "execution_count": 7,
     "metadata": {},
     "output_type": "execute_result"
    }
   ],
   "source": [
    "# Se extraen las primeras filas para observar como se encuentran los datos. -\n",
    "MSFT_df.head()"
   ]
  },
  {
   "cell_type": "code",
   "execution_count": 8,
   "metadata": {},
   "outputs": [
    {
     "name": "stdout",
     "output_type": "stream",
     "text": [
      "IBM_df: (8372, 6)\n",
      "INTC_df: (8372, 6)\n",
      "MSFT_df: (8372, 6)\n"
     ]
    }
   ],
   "source": [
    "# Ver el tamaño de los datasets. -\n",
    "print(\"IBM_df:\", IBM_df.shape)\n",
    "print(\"INTC_df:\", INTC_df.shape)\n",
    "print(\"MSFT_df:\", MSFT_df.shape)"
   ]
  },
  {
   "cell_type": "code",
   "execution_count": 9,
   "metadata": {},
   "outputs": [
    {
     "name": "stdout",
     "output_type": "stream",
     "text": [
      "<class 'pandas.core.frame.DataFrame'>\n",
      "Index: 8372 entries, 1990-01-02 to 2023-03-24\n",
      "Data columns (total 6 columns):\n",
      " #   Column     Non-Null Count  Dtype  \n",
      "---  ------     --------------  -----  \n",
      " 0   Open       8372 non-null   float64\n",
      " 1   High       8372 non-null   float64\n",
      " 2   Low        8372 non-null   float64\n",
      " 3   Close      8372 non-null   float64\n",
      " 4   Adj Close  8372 non-null   float64\n",
      " 5   Volume     8372 non-null   int64  \n",
      "dtypes: float64(5), int64(1)\n",
      "memory usage: 457.8+ KB\n",
      "Información de IMB_df:\n",
      " None\n"
     ]
    }
   ],
   "source": [
    "# Ver la información de los datasets. -\n",
    "print(\"Información de IMB_df:\\n\", IBM_df.info())"
   ]
  },
  {
   "cell_type": "code",
   "execution_count": 10,
   "metadata": {},
   "outputs": [
    {
     "name": "stdout",
     "output_type": "stream",
     "text": [
      "<class 'pandas.core.frame.DataFrame'>\n",
      "Index: 8372 entries, 1990-01-02 to 2023-03-24\n",
      "Data columns (total 6 columns):\n",
      " #   Column     Non-Null Count  Dtype  \n",
      "---  ------     --------------  -----  \n",
      " 0   Open       8372 non-null   float64\n",
      " 1   High       8372 non-null   float64\n",
      " 2   Low        8372 non-null   float64\n",
      " 3   Close      8372 non-null   float64\n",
      " 4   Adj Close  8372 non-null   float64\n",
      " 5   Volume     8372 non-null   int64  \n",
      "dtypes: float64(5), int64(1)\n",
      "memory usage: 457.8+ KB\n",
      "Información de INTC_df:\n",
      " None\n"
     ]
    }
   ],
   "source": [
    "# Ver la información de los datasets. -\n",
    "print(\"Información de INTC_df:\\n\", INTC_df.info())"
   ]
  },
  {
   "cell_type": "code",
   "execution_count": 11,
   "metadata": {},
   "outputs": [
    {
     "name": "stdout",
     "output_type": "stream",
     "text": [
      "<class 'pandas.core.frame.DataFrame'>\n",
      "Index: 8372 entries, 1990-01-02 to 2023-03-24\n",
      "Data columns (total 6 columns):\n",
      " #   Column     Non-Null Count  Dtype  \n",
      "---  ------     --------------  -----  \n",
      " 0   Open       8372 non-null   float64\n",
      " 1   High       8372 non-null   float64\n",
      " 2   Low        8372 non-null   float64\n",
      " 3   Close      8372 non-null   float64\n",
      " 4   Adj Close  8372 non-null   float64\n",
      " 5   Volume     8372 non-null   int64  \n",
      "dtypes: float64(5), int64(1)\n",
      "memory usage: 457.8+ KB\n",
      "Información de MSFT_df:\n",
      " None\n"
     ]
    }
   ],
   "source": [
    "# Ver la información de los datasets. -\n",
    "print(\"Información de MSFT_df:\\n\", MSFT_df.info())"
   ]
  },
  {
   "attachments": {},
   "cell_type": "markdown",
   "metadata": {},
   "source": [
    "A simple vista los Datasets no poseen datos nulos o vacios. -"
   ]
  },
  {
   "cell_type": "code",
   "execution_count": 12,
   "metadata": {},
   "outputs": [
    {
     "name": "stdout",
     "output_type": "stream",
     "text": [
      "Estadísticas básicas de IBM_df:\n",
      "               Open         High          Low        Close    Adj Close  \\\n",
      "count  8372.000000  8372.000000  8372.000000  8372.000000  8372.000000   \n",
      "mean     97.434757    98.355122    96.566187    97.470285    66.978898   \n",
      "std      52.054851    52.392296    51.740152    52.076298    41.532292   \n",
      "min       9.799235     9.978489     9.709608     9.799235     5.245978   \n",
      "25%      52.273542    53.029397    51.445984    52.461758    29.627714   \n",
      "50%     102.007645   103.632889   100.669212   102.117588    60.826960   \n",
      "75%     136.281067   137.374996   135.262497   136.419697   108.617129   \n",
      "max     205.908218   206.405350   204.875717   206.309753   148.742966   \n",
      "\n",
      "             Volume  \n",
      "count  8.372000e+03  \n",
      "mean   7.373780e+06  \n",
      "std    4.723861e+06  \n",
      "min    6.828290e+05  \n",
      "25%    4.397855e+06  \n",
      "50%    6.158744e+06  \n",
      "75%    8.852062e+06  \n",
      "max    7.263916e+07  \n"
     ]
    }
   ],
   "source": [
    "# Ver las estadísticas básicas de los datasets. -\n",
    "print(\"Estadísticas básicas de IBM_df:\\n\", IBM_df.describe())"
   ]
  },
  {
   "cell_type": "code",
   "execution_count": 13,
   "metadata": {},
   "outputs": [
    {
     "name": "stdout",
     "output_type": "stream",
     "text": [
      "Estadísticas básicas de INTC_df:\n",
      "               Open         High          Low        Close    Adj Close  \\\n",
      "count  8372.000000  8372.000000  8372.000000  8372.000000  8372.000000   \n",
      "mean     25.495934    25.843279    25.151257    25.494959    18.833071   \n",
      "std      16.016374    16.240164    15.799994    16.015688    14.384746   \n",
      "min       0.906250     0.937500     0.875000     0.910156     0.519937   \n",
      "25%      17.137968    17.459999    16.837500    17.140469    10.251818   \n",
      "50%      23.570000    23.865001    23.285001    23.554999    15.345698   \n",
      "75%      33.900002    34.312501    33.452500    33.895469    26.126823   \n",
      "max      75.625000    75.828125    73.625000    74.875000    63.608189   \n",
      "\n",
      "             Volume  \n",
      "count  8.372000e+03  \n",
      "mean   5.524464e+07  \n",
      "std    3.498009e+07  \n",
      "min    1.155400e+06  \n",
      "25%    3.209818e+07  \n",
      "50%    4.920475e+07  \n",
      "75%    6.850420e+07  \n",
      "max    5.677088e+08  \n"
     ]
    }
   ],
   "source": [
    "# Ver las estadísticas básicas de los datasets. -\n",
    "print(\"Estadísticas básicas de INTC_df:\\n\", INTC_df.describe())"
   ]
  },
  {
   "cell_type": "code",
   "execution_count": 14,
   "metadata": {},
   "outputs": [
    {
     "name": "stdout",
     "output_type": "stream",
     "text": [
      "Estadísticas básicas de MSFT_df:\n",
      "               Open         High          Low        Close    Adj Close  \\\n",
      "count  8372.000000  8372.000000  8372.000000  8372.000000  8372.000000   \n",
      "mean     52.535681    53.106145    51.953616    52.549162    46.614880   \n",
      "std      70.492688    71.231972    69.714757    70.511630    71.007095   \n",
      "min       0.591146     0.604167     0.583333     0.598090     0.373147   \n",
      "25%      18.799375    19.180001    18.467499    18.794999    12.887584   \n",
      "50%      28.030001    28.350000    27.760000    28.049999    20.213262   \n",
      "75%      46.562500    47.022500    46.030312    46.567501    38.524063   \n",
      "max     344.619995   349.670013   342.200012   343.109985   339.075562   \n",
      "\n",
      "             Volume  \n",
      "count  8.372000e+03  \n",
      "mean   5.648093e+07  \n",
      "std    3.364806e+07  \n",
      "min    3.705600e+06  \n",
      "25%    3.362382e+07  \n",
      "50%    5.057825e+07  \n",
      "75%    7.012212e+07  \n",
      "max    7.645040e+08  \n"
     ]
    }
   ],
   "source": [
    "# Ver las estadísticas básicas de los datasets. -\n",
    "print(\"Estadísticas básicas de MSFT_df:\\n\", MSFT_df.describe())"
   ]
  },
  {
   "attachments": {},
   "cell_type": "markdown",
   "metadata": {},
   "source": [
    "A continuacion, realizamos la consulta sobre si se encuentran valores duplicados en los Dataframe, a traves de la funcion df.duplicated() y acompañado con la funcion df.sum(), para sumar si efecvtivamente se encuentran dichos valores nulos. "
   ]
  },
  {
   "cell_type": "code",
   "execution_count": 15,
   "metadata": {},
   "outputs": [
    {
     "data": {
      "text/plain": [
       "0"
      ]
     },
     "execution_count": 15,
     "metadata": {},
     "output_type": "execute_result"
    }
   ],
   "source": [
    "IBM_df.duplicated().sum()"
   ]
  },
  {
   "cell_type": "code",
   "execution_count": 16,
   "metadata": {},
   "outputs": [
    {
     "data": {
      "text/plain": [
       "0"
      ]
     },
     "execution_count": 16,
     "metadata": {},
     "output_type": "execute_result"
    }
   ],
   "source": [
    "INTC_df.duplicated().sum()"
   ]
  },
  {
   "cell_type": "code",
   "execution_count": 17,
   "metadata": {},
   "outputs": [
    {
     "data": {
      "text/plain": [
       "0"
      ]
     },
     "execution_count": 17,
     "metadata": {},
     "output_type": "execute_result"
    }
   ],
   "source": [
    "MSFT_df.duplicated().sum()"
   ]
  },
  {
   "cell_type": "code",
   "execution_count": 18,
   "metadata": {},
   "outputs": [
    {
     "data": {
      "text/html": [
       "<div>\n",
       "<style scoped>\n",
       "    .dataframe tbody tr th:only-of-type {\n",
       "        vertical-align: middle;\n",
       "    }\n",
       "\n",
       "    .dataframe tbody tr th {\n",
       "        vertical-align: top;\n",
       "    }\n",
       "\n",
       "    .dataframe thead th {\n",
       "        text-align: right;\n",
       "    }\n",
       "</style>\n",
       "<table border=\"1\" class=\"dataframe\">\n",
       "  <thead>\n",
       "    <tr style=\"text-align: right;\">\n",
       "      <th></th>\n",
       "      <th>Open</th>\n",
       "      <th>Nombre_Empresa</th>\n",
       "      <th>High</th>\n",
       "      <th>Low</th>\n",
       "      <th>Close</th>\n",
       "      <th>Adj Close</th>\n",
       "      <th>Volume</th>\n",
       "    </tr>\n",
       "    <tr>\n",
       "      <th>Date</th>\n",
       "      <th></th>\n",
       "      <th></th>\n",
       "      <th></th>\n",
       "      <th></th>\n",
       "      <th></th>\n",
       "      <th></th>\n",
       "      <th></th>\n",
       "    </tr>\n",
       "  </thead>\n",
       "  <tbody>\n",
       "    <tr>\n",
       "      <th>1990-01-02</th>\n",
       "      <td>22.645794</td>\n",
       "      <td>IBM</td>\n",
       "      <td>23.452438</td>\n",
       "      <td>22.586042</td>\n",
       "      <td>23.422562</td>\n",
       "      <td>10.509354</td>\n",
       "      <td>7365514</td>\n",
       "    </tr>\n",
       "    <tr>\n",
       "      <th>1990-01-03</th>\n",
       "      <td>23.601816</td>\n",
       "      <td>IBM</td>\n",
       "      <td>23.781071</td>\n",
       "      <td>23.512190</td>\n",
       "      <td>23.631693</td>\n",
       "      <td>10.603189</td>\n",
       "      <td>9899344</td>\n",
       "    </tr>\n",
       "    <tr>\n",
       "      <th>1990-01-04</th>\n",
       "      <td>23.661568</td>\n",
       "      <td>IBM</td>\n",
       "      <td>23.990202</td>\n",
       "      <td>23.631693</td>\n",
       "      <td>23.900574</td>\n",
       "      <td>10.723829</td>\n",
       "      <td>10119841</td>\n",
       "    </tr>\n",
       "    <tr>\n",
       "      <th>1990-01-05</th>\n",
       "      <td>23.870699</td>\n",
       "      <td>IBM</td>\n",
       "      <td>24.288958</td>\n",
       "      <td>23.781071</td>\n",
       "      <td>23.840822</td>\n",
       "      <td>10.697018</td>\n",
       "      <td>7918220</td>\n",
       "    </tr>\n",
       "    <tr>\n",
       "      <th>1990-01-08</th>\n",
       "      <td>23.721319</td>\n",
       "      <td>IBM</td>\n",
       "      <td>24.109703</td>\n",
       "      <td>23.721319</td>\n",
       "      <td>23.990202</td>\n",
       "      <td>10.764043</td>\n",
       "      <td>4837959</td>\n",
       "    </tr>\n",
       "  </tbody>\n",
       "</table>\n",
       "</div>"
      ],
      "text/plain": [
       "                 Open Nombre_Empresa       High        Low      Close  \\\n",
       "Date                                                                    \n",
       "1990-01-02  22.645794            IBM  23.452438  22.586042  23.422562   \n",
       "1990-01-03  23.601816            IBM  23.781071  23.512190  23.631693   \n",
       "1990-01-04  23.661568            IBM  23.990202  23.631693  23.900574   \n",
       "1990-01-05  23.870699            IBM  24.288958  23.781071  23.840822   \n",
       "1990-01-08  23.721319            IBM  24.109703  23.721319  23.990202   \n",
       "\n",
       "            Adj Close    Volume  \n",
       "Date                             \n",
       "1990-01-02  10.509354   7365514  \n",
       "1990-01-03  10.603189   9899344  \n",
       "1990-01-04  10.723829  10119841  \n",
       "1990-01-05  10.697018   7918220  \n",
       "1990-01-08  10.764043   4837959  "
      ]
     },
     "execution_count": 18,
     "metadata": {},
     "output_type": "execute_result"
    }
   ],
   "source": [
    "# Agregar una columna con el nombre de las empresas\n",
    "nombre_empresas = ['IBM'] * len(IBM_df)\n",
    "IBM_df.insert(1, 'Nombre_Empresa', nombre_empresas)\n",
    "IBM_df.head()"
   ]
  },
  {
   "cell_type": "code",
   "execution_count": 19,
   "metadata": {},
   "outputs": [
    {
     "data": {
      "text/html": [
       "<div>\n",
       "<style scoped>\n",
       "    .dataframe tbody tr th:only-of-type {\n",
       "        vertical-align: middle;\n",
       "    }\n",
       "\n",
       "    .dataframe tbody tr th {\n",
       "        vertical-align: top;\n",
       "    }\n",
       "\n",
       "    .dataframe thead th {\n",
       "        text-align: right;\n",
       "    }\n",
       "</style>\n",
       "<table border=\"1\" class=\"dataframe\">\n",
       "  <thead>\n",
       "    <tr style=\"text-align: right;\">\n",
       "      <th></th>\n",
       "      <th>Open</th>\n",
       "      <th>Nombre_Empresa</th>\n",
       "      <th>High</th>\n",
       "      <th>Low</th>\n",
       "      <th>Close</th>\n",
       "      <th>Adj Close</th>\n",
       "      <th>Volume</th>\n",
       "    </tr>\n",
       "    <tr>\n",
       "      <th>Date</th>\n",
       "      <th></th>\n",
       "      <th></th>\n",
       "      <th></th>\n",
       "      <th></th>\n",
       "      <th></th>\n",
       "      <th></th>\n",
       "      <th></th>\n",
       "    </tr>\n",
       "  </thead>\n",
       "  <tbody>\n",
       "    <tr>\n",
       "      <th>1990-01-02</th>\n",
       "      <td>1.078125</td>\n",
       "      <td>INTC</td>\n",
       "      <td>1.125000</td>\n",
       "      <td>1.062500</td>\n",
       "      <td>1.125000</td>\n",
       "      <td>0.642669</td>\n",
       "      <td>63833600</td>\n",
       "    </tr>\n",
       "    <tr>\n",
       "      <th>1990-01-03</th>\n",
       "      <td>1.125000</td>\n",
       "      <td>INTC</td>\n",
       "      <td>1.132813</td>\n",
       "      <td>1.093750</td>\n",
       "      <td>1.093750</td>\n",
       "      <td>0.624817</td>\n",
       "      <td>69504000</td>\n",
       "    </tr>\n",
       "    <tr>\n",
       "      <th>1990-01-04</th>\n",
       "      <td>1.101563</td>\n",
       "      <td>INTC</td>\n",
       "      <td>1.125000</td>\n",
       "      <td>1.078125</td>\n",
       "      <td>1.117188</td>\n",
       "      <td>0.638206</td>\n",
       "      <td>58483200</td>\n",
       "    </tr>\n",
       "    <tr>\n",
       "      <th>1990-01-05</th>\n",
       "      <td>1.117188</td>\n",
       "      <td>INTC</td>\n",
       "      <td>1.125000</td>\n",
       "      <td>1.101563</td>\n",
       "      <td>1.109375</td>\n",
       "      <td>0.633743</td>\n",
       "      <td>37036800</td>\n",
       "    </tr>\n",
       "    <tr>\n",
       "      <th>1990-01-08</th>\n",
       "      <td>1.117188</td>\n",
       "      <td>INTC</td>\n",
       "      <td>1.132813</td>\n",
       "      <td>1.109375</td>\n",
       "      <td>1.125000</td>\n",
       "      <td>0.642669</td>\n",
       "      <td>43305600</td>\n",
       "    </tr>\n",
       "  </tbody>\n",
       "</table>\n",
       "</div>"
      ],
      "text/plain": [
       "                Open Nombre_Empresa      High       Low     Close  Adj Close  \\\n",
       "Date                                                                           \n",
       "1990-01-02  1.078125           INTC  1.125000  1.062500  1.125000   0.642669   \n",
       "1990-01-03  1.125000           INTC  1.132813  1.093750  1.093750   0.624817   \n",
       "1990-01-04  1.101563           INTC  1.125000  1.078125  1.117188   0.638206   \n",
       "1990-01-05  1.117188           INTC  1.125000  1.101563  1.109375   0.633743   \n",
       "1990-01-08  1.117188           INTC  1.132813  1.109375  1.125000   0.642669   \n",
       "\n",
       "              Volume  \n",
       "Date                  \n",
       "1990-01-02  63833600  \n",
       "1990-01-03  69504000  \n",
       "1990-01-04  58483200  \n",
       "1990-01-05  37036800  \n",
       "1990-01-08  43305600  "
      ]
     },
     "execution_count": 19,
     "metadata": {},
     "output_type": "execute_result"
    }
   ],
   "source": [
    "# Agregar una columna con el nombre de las empresas\n",
    "nombre_empresas = ['INTC'] * len(INTC_df)\n",
    "INTC_df.insert(1, 'Nombre_Empresa', nombre_empresas)\n",
    "INTC_df.head()"
   ]
  },
  {
   "cell_type": "code",
   "execution_count": 20,
   "metadata": {},
   "outputs": [
    {
     "data": {
      "text/html": [
       "<div>\n",
       "<style scoped>\n",
       "    .dataframe tbody tr th:only-of-type {\n",
       "        vertical-align: middle;\n",
       "    }\n",
       "\n",
       "    .dataframe tbody tr th {\n",
       "        vertical-align: top;\n",
       "    }\n",
       "\n",
       "    .dataframe thead th {\n",
       "        text-align: right;\n",
       "    }\n",
       "</style>\n",
       "<table border=\"1\" class=\"dataframe\">\n",
       "  <thead>\n",
       "    <tr style=\"text-align: right;\">\n",
       "      <th></th>\n",
       "      <th>Open</th>\n",
       "      <th>Nombre_Empresa</th>\n",
       "      <th>High</th>\n",
       "      <th>Low</th>\n",
       "      <th>Close</th>\n",
       "      <th>Adj Close</th>\n",
       "      <th>Volume</th>\n",
       "    </tr>\n",
       "    <tr>\n",
       "      <th>Date</th>\n",
       "      <th></th>\n",
       "      <th></th>\n",
       "      <th></th>\n",
       "      <th></th>\n",
       "      <th></th>\n",
       "      <th></th>\n",
       "      <th></th>\n",
       "    </tr>\n",
       "  </thead>\n",
       "  <tbody>\n",
       "    <tr>\n",
       "      <th>1990-01-02</th>\n",
       "      <td>0.605903</td>\n",
       "      <td>MSFT</td>\n",
       "      <td>0.616319</td>\n",
       "      <td>0.598090</td>\n",
       "      <td>0.616319</td>\n",
       "      <td>0.384520</td>\n",
       "      <td>53035200</td>\n",
       "    </tr>\n",
       "    <tr>\n",
       "      <th>1990-01-03</th>\n",
       "      <td>0.621528</td>\n",
       "      <td>MSFT</td>\n",
       "      <td>0.626736</td>\n",
       "      <td>0.614583</td>\n",
       "      <td>0.619792</td>\n",
       "      <td>0.386687</td>\n",
       "      <td>113774400</td>\n",
       "    </tr>\n",
       "    <tr>\n",
       "      <th>1990-01-04</th>\n",
       "      <td>0.619792</td>\n",
       "      <td>MSFT</td>\n",
       "      <td>0.638889</td>\n",
       "      <td>0.616319</td>\n",
       "      <td>0.638021</td>\n",
       "      <td>0.398060</td>\n",
       "      <td>125740800</td>\n",
       "    </tr>\n",
       "    <tr>\n",
       "      <th>1990-01-05</th>\n",
       "      <td>0.635417</td>\n",
       "      <td>MSFT</td>\n",
       "      <td>0.638889</td>\n",
       "      <td>0.621528</td>\n",
       "      <td>0.622396</td>\n",
       "      <td>0.388312</td>\n",
       "      <td>69566400</td>\n",
       "    </tr>\n",
       "    <tr>\n",
       "      <th>1990-01-08</th>\n",
       "      <td>0.621528</td>\n",
       "      <td>MSFT</td>\n",
       "      <td>0.631944</td>\n",
       "      <td>0.614583</td>\n",
       "      <td>0.631944</td>\n",
       "      <td>0.394269</td>\n",
       "      <td>58982400</td>\n",
       "    </tr>\n",
       "  </tbody>\n",
       "</table>\n",
       "</div>"
      ],
      "text/plain": [
       "                Open Nombre_Empresa      High       Low     Close  Adj Close  \\\n",
       "Date                                                                           \n",
       "1990-01-02  0.605903           MSFT  0.616319  0.598090  0.616319   0.384520   \n",
       "1990-01-03  0.621528           MSFT  0.626736  0.614583  0.619792   0.386687   \n",
       "1990-01-04  0.619792           MSFT  0.638889  0.616319  0.638021   0.398060   \n",
       "1990-01-05  0.635417           MSFT  0.638889  0.621528  0.622396   0.388312   \n",
       "1990-01-08  0.621528           MSFT  0.631944  0.614583  0.631944   0.394269   \n",
       "\n",
       "               Volume  \n",
       "Date                   \n",
       "1990-01-02   53035200  \n",
       "1990-01-03  113774400  \n",
       "1990-01-04  125740800  \n",
       "1990-01-05   69566400  \n",
       "1990-01-08   58982400  "
      ]
     },
     "execution_count": 20,
     "metadata": {},
     "output_type": "execute_result"
    }
   ],
   "source": [
    "# Agregar una columna con el nombre de las empresas\n",
    "nombre_empresas = ['MSFT'] * len(MSFT_df)\n",
    "MSFT_df.insert(1, 'Nombre_Empresa', nombre_empresas)\n",
    "MSFT_df.head()"
   ]
  },
  {
   "cell_type": "code",
   "execution_count": 21,
   "metadata": {},
   "outputs": [
    {
     "name": "stdout",
     "output_type": "stream",
     "text": [
      "                   IBM       INTC        MSFT\n",
      "Date                                         \n",
      "1990-01-02   10.509354   0.642669    0.384520\n",
      "1990-01-03   10.603189   0.624817    0.386687\n",
      "1990-01-04   10.723829   0.638206    0.398060\n",
      "1990-01-05   10.697018   0.633743    0.388312\n",
      "1990-01-08   10.764043   0.642669    0.394269\n",
      "...                ...        ...         ...\n",
      "2023-03-20  125.940002  29.160000  272.230011\n",
      "2023-03-21  126.570000  28.459999  273.779999\n",
      "2023-03-22  124.050003  28.129999  272.290009\n",
      "2023-03-23  123.370003  29.030001  277.660004\n",
      "2023-03-24  125.290001  29.360001  280.570007\n",
      "\n",
      "[8372 rows x 3 columns]\n"
     ]
    }
   ],
   "source": [
    "# Crear un DataFrame con los precios de cierre ajustados de las empresas\n",
    "IBM_adj_close = IBM_df['Adj Close']\n",
    "INTC_adj_close = INTC_df['Adj Close']\n",
    "MSFT_adj_close = MSFT_df['Adj Close']\n",
    "df_cierre_ajustado = pd.DataFrame({'IBM': IBM_adj_close, 'INTC': INTC_adj_close, 'MSFT': MSFT_adj_close})\n",
    "print(df_cierre_ajustado)\n"
   ]
  },
  {
   "cell_type": "code",
   "execution_count": 22,
   "metadata": {},
   "outputs": [
    {
     "name": "stdout",
     "output_type": "stream",
     "text": [
      "                   IBM       INTC        MSFT\n",
      "Date                                         \n",
      "1990-01-02   22.645794   1.078125    0.605903\n",
      "1990-01-03   23.601816   1.125000    0.621528\n",
      "1990-01-04   23.661568   1.101563    0.619792\n",
      "1990-01-05   23.870699   1.117188    0.635417\n",
      "1990-01-08   23.721319   1.117188    0.621528\n",
      "...                ...        ...         ...\n",
      "2023-03-20  124.309998  29.799999  276.980011\n",
      "2023-03-21  126.900002  29.000000  274.880005\n",
      "2023-03-22  127.000000  28.480000  273.399994\n",
      "2023-03-23  123.809998  28.379999  277.940002\n",
      "2023-03-24  123.360001  29.040001  277.239990\n",
      "\n",
      "[8372 rows x 3 columns]\n"
     ]
    }
   ],
   "source": [
    "# Crear un DataFrame con los precios de apertura de las empresas\n",
    "IBM_Open = IBM_df['Open']\n",
    "INTC_Open = INTC_df['Open']\n",
    "MSFT_Open = MSFT_df['Open']\n",
    "df_precio_apertura = pd.DataFrame({'IBM': IBM_Open, 'INTC': INTC_Open, 'MSFT': MSFT_Open})\n",
    "print(df_precio_apertura)\n"
   ]
  },
  {
   "cell_type": "code",
   "execution_count": 23,
   "metadata": {},
   "outputs": [
    {
     "name": "stdout",
     "output_type": "stream",
     "text": [
      "                 IBM      INTC       MSFT\n",
      "Date                                     \n",
      "1990-01-02   7365514  63833600   53035200\n",
      "1990-01-03   9899344  69504000  113774400\n",
      "1990-01-04  10119841  58483200  125740800\n",
      "1990-01-05   7918220  37036800   69566400\n",
      "1990-01-08   4837959  43305600   58982400\n",
      "...              ...       ...        ...\n",
      "2023-03-20   4588300  38780100   43466600\n",
      "2023-03-21   3856300  55650800   34558700\n",
      "2023-03-22   3549000  37415500   34873300\n",
      "2023-03-23   4651900  43785500   36610900\n",
      "2023-03-24   3812300  55912100   28172000\n",
      "\n",
      "[8372 rows x 3 columns]\n"
     ]
    }
   ],
   "source": [
    "# Crear un DataFrame con los precios de apertura de las empresas\n",
    "IBM_Volumen = IBM_df['Volume']\n",
    "INTC_Volumen = INTC_df['Volume']\n",
    "MSFT_Volumen = MSFT_df['Volume']\n",
    "df_cierre_volumen = pd.DataFrame({'IBM': IBM_Volumen, 'INTC': INTC_Volumen, 'MSFT': MSFT_Volumen})\n",
    "print(df_cierre_volumen)"
   ]
  },
  {
   "attachments": {},
   "cell_type": "markdown",
   "metadata": {},
   "source": [
    "- Grafico de Boxplot"
   ]
  },
  {
   "cell_type": "code",
   "execution_count": 24,
   "metadata": {},
   "outputs": [],
   "source": [
    "# Crear una figura y un eje\n",
    "fig, ax = plt.subplots()\n",
    "\n",
    "# Crear un boxplot con los precios de cierre ajustados de las empresas\n",
    "df_cierre_ajustado.plot(kind='box', ax=ax)\n",
    "\n",
    "# Personalizar el gráfico\n",
    "ax.set_title('Boxplot de los precios de cierre ajustados de las empresas')\n",
    "ax.set_ylabel('Precio de cierre ajustado')\n",
    "\n",
    "# Mostrar el gráfico\n",
    "plt.show()\n"
   ]
  },
  {
   "attachments": {},
   "cell_type": "markdown",
   "metadata": {},
   "source": [
    "- Grafico Histograma"
   ]
  },
  {
   "cell_type": "code",
   "execution_count": 25,
   "metadata": {},
   "outputs": [],
   "source": [
    "# Crear una figura y un eje\n",
    "fig, ax = plt.subplots()\n",
    "\n",
    "# Crear un histograma con los precios de cierre ajustados de las empresas\n",
    "df_cierre_ajustado.plot(kind='hist', y=['IBM', 'INTC', 'MSFT'], bins=20, alpha=0.7, ax=ax)\n",
    "\n",
    "# Personalizar el gráfico\n",
    "ax.set_title('Histograma de los precios de cierre ajustados de las empresas')\n",
    "ax.set_xlabel('Precio de cierre ajustado')\n",
    "ax.set_ylabel('Frecuencia')\n",
    "\n",
    "# Mostrar el gráfico\n",
    "plt.show()\n"
   ]
  },
  {
   "attachments": {},
   "cell_type": "markdown",
   "metadata": {},
   "source": [
    "- Gráfico de línea con marcadores"
   ]
  },
  {
   "cell_type": "code",
   "execution_count": 26,
   "metadata": {},
   "outputs": [],
   "source": [
    "# Crear una figura y un eje\n",
    "fig, ax = plt.subplots()\n",
    "\n",
    "# Crear un gráfico de línea con los precios de cierre ajustados de las empresas\n",
    "df_cierre_ajustado.plot(kind='line', ax=ax, marker='o')\n",
    "\n",
    "# Personalizar el gráfico\n",
    "ax.set_title('Precios de cierre ajustados de las empresas')\n",
    "ax.set_xlabel('Fecha')\n",
    "ax.set_ylabel('Precio de cierre ajustado')\n",
    "\n",
    "# Mostrar el gráfico\n",
    "plt.show()\n"
   ]
  },
  {
   "cell_type": "markdown",
   "metadata": {},
   "source": []
  },
  {
   "attachments": {},
   "cell_type": "markdown",
   "metadata": {},
   "source": [
    "El P/E o Price-to-Earnings es una métrica financiera que se utiliza para evaluar la relación entre el precio de una acción y las ganancias que genera la empresa. En términos simples, el P/E indica cuánto se está pagando por cada unidad monetaria de ganancias que la empresa genera.\n",
    "\n",
    "Un P/E de \"XXX\" significa que por cada unidad monetaria de ganancia que la empresa genera, se está pagando \"XXX\" unidades monetarias por su acción en el mercado bursátil. Por lo general, un P/E bajo se considera positivo ya que indica que la acción puede estar subvalorada y tiene un mayor potencial de crecimiento en el futuro. Sin embargo, el valor de referencia para considerar un P/E bajo o alto depende del sector industrial y las condiciones del mercado en general."
   ]
  },
  {
   "cell_type": "code",
   "execution_count": 27,
   "metadata": {},
   "outputs": [
    {
     "name": "stdout",
     "output_type": "stream",
     "text": [
      "El P/E de la empresa es: 1.6044505860760385\n"
     ]
    }
   ],
   "source": [
    "# Seleccionar las columnas necesarias para el cálculo del múltiplo de P/E\n",
    "precio_accion = IBM_df['Close']\n",
    "ganancias_por_accion = IBM_df['Adj Close']\n",
    "\n",
    "# Calcular el P/E\n",
    "pe_ratio = np.divide(precio_accion, ganancias_por_accion)\n",
    "\n",
    "# Imprimir el resultado\n",
    "print('El P/E de la empresa es:', pe_ratio.mean())"
   ]
  },
  {
   "cell_type": "code",
   "execution_count": 28,
   "metadata": {},
   "outputs": [
    {
     "name": "stdout",
     "output_type": "stream",
     "text": [
      "El P/E de la empresa es: 1.5112119012611323\n"
     ]
    }
   ],
   "source": [
    "# Seleccionar las columnas necesarias para el cálculo del múltiplo de P/E\n",
    "precio_accion = INTC_df['Close']\n",
    "ganancias_por_accion = INTC_df['Adj Close']\n",
    "\n",
    "# Calcular el P/E\n",
    "pe_ratio = np.divide(precio_accion, ganancias_por_accion)\n",
    "\n",
    "# Imprimir el resultado\n",
    "print('El P/E de la empresa es:', pe_ratio.mean())"
   ]
  },
  {
   "cell_type": "code",
   "execution_count": 29,
   "metadata": {},
   "outputs": [
    {
     "name": "stdout",
     "output_type": "stream",
     "text": [
      "El P/E de la empresa es: 1.3755908409119988\n"
     ]
    }
   ],
   "source": [
    "# Seleccionar las columnas necesarias para el cálculo del múltiplo de P/E\n",
    "precio_accion = MSFT_df['Close']\n",
    "ganancias_por_accion = MSFT_df['Adj Close']\n",
    "\n",
    "# Calcular el P/E\n",
    "pe_ratio = np.divide(precio_accion, ganancias_por_accion)\n",
    "\n",
    "# Imprimir el resultado\n",
    "print('El P/E de la empresa es:', pe_ratio.mean())"
   ]
  }
 ],
 "metadata": {
  "kernelspec": {
   "display_name": "Python 3",
   "language": "python",
   "name": "python3"
  },
  "language_info": {
   "codemirror_mode": {
    "name": "ipython",
    "version": 3
   },
   "file_extension": ".py",
   "mimetype": "text/x-python",
   "name": "python",
   "nbconvert_exporter": "python",
   "pygments_lexer": "ipython3",
   "version": "3.10.7"
  },
  "orig_nbformat": 4
 },
 "nbformat": 4,
 "nbformat_minor": 2
}
